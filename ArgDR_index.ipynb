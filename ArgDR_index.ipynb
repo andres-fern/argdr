{
 "cells": [
  {
   "cell_type": "code",
   "execution_count": 157,
   "id": "fe97e2bb-1ce4-4c9d-859e-686e6257dc1b",
   "metadata": {
    "tags": []
   },
   "outputs": [
    {
     "name": "stdout",
     "output_type": "stream",
     "text": [
      "c:\\Users\\andre\\OneDrive\\Programación-Datos\\Proyectos para portfolio-ideas\\ADR Index para acciones argentinas\n",
      "Inicio del Jupyter File.\n"
     ]
    }
   ],
   "source": [
    "import os\n",
    "print(os.getcwd())\n",
    "print('Inicio del Jupyter File.')"
   ]
  },
  {
   "cell_type": "markdown",
   "id": "ccd25a68-294c-474b-8996-653419790cac",
   "metadata": {
    "tags": []
   },
   "source": [
    "# ArgDR Index para monitorear el interés internacional en la economía argentina\n",
    "\n",
    "*Por Andrés Fernández Apenburg*\n",
    "\n",
    "*Licenciado en Economía, Universidad de Buenos Aires*"
   ]
  },
  {
   "cell_type": "markdown",
   "id": "ace2dc9b-6bad-4eb0-b9da-5aa8de3a084c",
   "metadata": {
    "tags": []
   },
   "source": [
    "## Introducción\n",
    "Existe una clase de activos financieros llamados ADR (del inglés American Drawing Right). Un ADR es un certificado de titularidad, por parte de un residente estadounidense, de una acción de una empresa cuyas acciones cotizan en un mercado fuera de EEUU. En el caso argentino, se trata de certificados de titularidad de acciones que cotizan en la Bolsa de Comercio de Buenos Aires (BCBA). La compraventa de los ADR argentinos tiene lugar en la Bolsa de Comercio de Nueva York (NYSE) y los valores se expresan en dólares estadounidenses. Existen ADR para múltiples empresas importantes de Argentina, como YPF, Grupo Galicia, e IRSA. \n",
    "\n",
    "La cotización de los ADR argentinos es seguida atentamente por los medios de comunicación financieros del país y el exterior, ya que provee una valiosa señal de las expectativas futuras de generación de dólares por parte del sector privado argentino. Sin embargo, no se cuenta con un índice que permita sintetizar el conjunto de los precios, es decir, una única variable numérica, cuya variación día a día refleje la tendencia general de los precios de los múltiples ADR argentinos. \n"
   ]
  },
  {
   "cell_type": "markdown",
   "id": "99f8723c-0e36-46b4-85e5-f91780412a52",
   "metadata": {
    "tags": []
   },
   "source": [
    "## La solución propuesta\n"
   ]
  },
  {
   "cell_type": "markdown",
   "id": "c0ad1322-221a-4dde-ab1d-b7fac943034c",
   "metadata": {
    "tags": []
   },
   "source": [
    "### Qué buscamos en un índice\n",
    "Las propiedades deseables de un índice incluyen:\n",
    "1. Que varíe su valor si varía el estado del fenómeno subyacente a medir (en este caso, las tendencias *generales* del valor de los ADR en su conjunto)\n",
    "2. Que no se vea afectado por *outliers* (en este caso, firmas pequeñas que aumenten su valor accionario en proporciones mucho mayores que la tendencia general en el resto de las firmas)\n",
    "\n"
   ]
  },
  {
   "cell_type": "markdown",
   "id": "8f737f55-f359-4a79-a3cc-3852e21c2d81",
   "metadata": {
    "tags": []
   },
   "source": [
    "### Definición del índice\n",
    "El Índice ArgDR está definido como un promedio ponderado de todos los precios de ADR argentinos, donde los ponderadores sugeridos son la capitalización de mercado de cada firma como porcentaje de la capitalización bursátil colectiva del total de las firmas incluidas. \n",
    "Formalmente, dada una cantidad $N$ de ADR argentinos cotizando en el instante o periodo $t$ (por ejemplo, el inicio o cierre de la jornada, o las 12 del mediodía, o un cierto período sobre el cual se toman valores promedio para todos los activos), el índice queda definido como: \n",
    "\n",
    "$$ \n",
    "ArgDR_{t} = \\sum_{i=1}^{N} A_{i, t} \\cdot P_{i, t}\n",
    "$$\n",
    "\n",
    "Donde $A_{i,t}$ es la cotización en dólares del ADR $i$ en $t$, y $P_{i,t}$ es el ponderador del ADR $i$ en la jornada $t$, definido como:\n",
    "\n",
    "$$\n",
    "P_{i, t}=\\frac{C_{i, t}}{\\sum_{i}^{N}C_{i, t}}\n",
    "$$\n",
    "\n",
    "Donde ${C_{i, t}}$ es la capitalización bursátil de la empresa $i$, es decir, su número total de acciones multiplicado por $A_{i, t}$.\n",
    "\n",
    "Bajo esta definición se cumple que $\\sum_{i}^{N}P_{i,t} = 1$, para todo $t$, por lo que se trata de un conjunto válido de ponderadores.\n",
    "\n",
    "En la práctica, el ponderador se puede tomar como fijo a lo largo de múltiples $t$ (índice tipo Laspeyres), utilizando, por ejemplo, las capitalizaciones bursátiles al cierre del trimestre anterior para calcular los ponderadores, de forma tal que resulta opcional su actualización diaria. \n"
   ]
  },
  {
   "cell_type": "markdown",
   "id": "ef463137-ec66-4072-92f9-20c42bffa603",
   "metadata": {},
   "source": [
    "### Por qué nuestro índice satisface las propiedades deseadas\n",
    "1. Al tratarse de un promedio ponderado de precios de acciones individuales, si suben todas las acciones, necesariamente debe subir el valor del índice\n",
    "2. Si una firma es más relevante en el mercado (medido en términos de la capitalización bursátil, esto es, del valor implícito de la compañía en función de la cantidad de acciones y su precio), el índice responderá con un mayor cambio porcentual ante la misma variación porcentual en el valor de dicho activo en comparación con una firma menos relevante, porque el valor de su ponderador será mayor."
   ]
  },
  {
   "cell_type": "markdown",
   "id": "5c5c5e01-827f-4d56-8dd0-68c6fffe598e",
   "metadata": {},
   "source": [
    "# Obtención de los datos"
   ]
  },
  {
   "cell_type": "markdown",
   "id": "e326d815-b4a5-445a-a243-a92f2eec355f",
   "metadata": {
    "tags": []
   },
   "source": [
    "## Web scraping desde investing.com\n"
   ]
  },
  {
   "cell_type": "markdown",
   "id": "2ecd9eed",
   "metadata": {},
   "source": [
    "Descargamos un archivo CSV con la tabla que tiene investing.com mostrando las cotizaciones de ADR argentinos, el cual se puede descargar desde [esta](https://www.investing.com/equities/argentina-adrs) web.\n",
    "\n",
    "Decidimos remover MercadoLibre de nuestro índice, ya que no es un ADR propiamente dicho (no cotiza en la BCBA salvo como CEDEAR) y sus resultados financieros dependen principalmente de sus actividades fuera de la Argentina, factores que las distinguen de todos los demás activos considerados."
   ]
  },
  {
   "cell_type": "code",
   "execution_count": 158,
   "id": "2e411075-4974-4c10-a185-a3701e7ed740",
   "metadata": {
    "tags": []
   },
   "outputs": [
    {
     "data": {
      "text/html": [
       "<div>\n",
       "<style scoped>\n",
       "    .dataframe tbody tr th:only-of-type {\n",
       "        vertical-align: middle;\n",
       "    }\n",
       "\n",
       "    .dataframe tbody tr th {\n",
       "        vertical-align: top;\n",
       "    }\n",
       "\n",
       "    .dataframe thead th {\n",
       "        text-align: right;\n",
       "    }\n",
       "</style>\n",
       "<table border=\"1\" class=\"dataframe\">\n",
       "  <thead>\n",
       "    <tr style=\"text-align: right;\">\n",
       "      <th></th>\n",
       "      <th>Last</th>\n",
       "      <th>High</th>\n",
       "      <th>Low</th>\n",
       "      <th>Chg.</th>\n",
       "      <th>Chg. %</th>\n",
       "      <th>Vol.</th>\n",
       "      <th>Time</th>\n",
       "    </tr>\n",
       "    <tr>\n",
       "      <th>Name</th>\n",
       "      <th></th>\n",
       "      <th></th>\n",
       "      <th></th>\n",
       "      <th></th>\n",
       "      <th></th>\n",
       "      <th></th>\n",
       "      <th></th>\n",
       "    </tr>\n",
       "  </thead>\n",
       "  <tbody>\n",
       "    <tr>\n",
       "      <th>YPF Sociedad Anonima</th>\n",
       "      <td>16.960</td>\n",
       "      <td>17.400</td>\n",
       "      <td>16.800</td>\n",
       "      <td>0.250</td>\n",
       "      <td>1.50%</td>\n",
       "      <td>3.03M</td>\n",
       "      <td>15:59:59</td>\n",
       "    </tr>\n",
       "    <tr>\n",
       "      <th>Grupo Supervielle</th>\n",
       "      <td>4.275</td>\n",
       "      <td>4.370</td>\n",
       "      <td>4.175</td>\n",
       "      <td>-0.035</td>\n",
       "      <td>-0.81%</td>\n",
       "      <td>668.7K</td>\n",
       "      <td>16:00:00</td>\n",
       "    </tr>\n",
       "    <tr>\n",
       "      <th>Loma Negra ADR</th>\n",
       "      <td>6.490</td>\n",
       "      <td>6.530</td>\n",
       "      <td>6.280</td>\n",
       "      <td>0.090</td>\n",
       "      <td>1.41%</td>\n",
       "      <td>543.86K</td>\n",
       "      <td>16:00:00</td>\n",
       "    </tr>\n",
       "    <tr>\n",
       "      <th>Grupo Financiero Galicia ADR</th>\n",
       "      <td>20.780</td>\n",
       "      <td>20.860</td>\n",
       "      <td>20.348</td>\n",
       "      <td>0.010</td>\n",
       "      <td>0.05%</td>\n",
       "      <td>516.67K</td>\n",
       "      <td>15:59:59</td>\n",
       "    </tr>\n",
       "    <tr>\n",
       "      <th>BBVA Argentina</th>\n",
       "      <td>5.720</td>\n",
       "      <td>5.830</td>\n",
       "      <td>5.650</td>\n",
       "      <td>-0.100</td>\n",
       "      <td>-1.72%</td>\n",
       "      <td>491.08K</td>\n",
       "      <td>15:59:59</td>\n",
       "    </tr>\n",
       "    <tr>\n",
       "      <th>Banco Macro B ADR</th>\n",
       "      <td>33.62</td>\n",
       "      <td>33.68</td>\n",
       "      <td>31.86</td>\n",
       "      <td>1.140</td>\n",
       "      <td>3.51%</td>\n",
       "      <td>380.2K</td>\n",
       "      <td>15:59:59</td>\n",
       "    </tr>\n",
       "    <tr>\n",
       "      <th>Central Puerto</th>\n",
       "      <td>8.380</td>\n",
       "      <td>8.620</td>\n",
       "      <td>8.272</td>\n",
       "      <td>-0.040</td>\n",
       "      <td>-0.48%</td>\n",
       "      <td>300.34K</td>\n",
       "      <td>16:00:00</td>\n",
       "    </tr>\n",
       "    <tr>\n",
       "      <th>Transportadora Gas ADR</th>\n",
       "      <td>13.200</td>\n",
       "      <td>13.592</td>\n",
       "      <td>13.010</td>\n",
       "      <td>-0.010</td>\n",
       "      <td>-0.08%</td>\n",
       "      <td>170.73K</td>\n",
       "      <td>15:59:59</td>\n",
       "    </tr>\n",
       "    <tr>\n",
       "      <th>Cresud SACIF</th>\n",
       "      <td>8.270</td>\n",
       "      <td>8.470</td>\n",
       "      <td>8.240</td>\n",
       "      <td>-0.130</td>\n",
       "      <td>-1.55%</td>\n",
       "      <td>147.12K</td>\n",
       "      <td>15:59:59</td>\n",
       "    </tr>\n",
       "    <tr>\n",
       "      <th>Despegar.com</th>\n",
       "      <td>8.55</td>\n",
       "      <td>8.61</td>\n",
       "      <td>8.47</td>\n",
       "      <td>0.000</td>\n",
       "      <td>0.00%</td>\n",
       "      <td>127.01K</td>\n",
       "      <td>16:00:00</td>\n",
       "    </tr>\n",
       "    <tr>\n",
       "      <th>IRSA ADR</th>\n",
       "      <td>8.540</td>\n",
       "      <td>8.850</td>\n",
       "      <td>8.400</td>\n",
       "      <td>-0.090</td>\n",
       "      <td>-1.04%</td>\n",
       "      <td>119.36K</td>\n",
       "      <td>15:59:59</td>\n",
       "    </tr>\n",
       "    <tr>\n",
       "      <th>Pampa Energia ADR</th>\n",
       "      <td>42.21</td>\n",
       "      <td>42.78</td>\n",
       "      <td>41.44</td>\n",
       "      <td>0.150</td>\n",
       "      <td>0.36%</td>\n",
       "      <td>114.89K</td>\n",
       "      <td>15:59:59</td>\n",
       "    </tr>\n",
       "    <tr>\n",
       "      <th>Telecom Argentina ADR</th>\n",
       "      <td>7.660</td>\n",
       "      <td>7.890</td>\n",
       "      <td>7.580</td>\n",
       "      <td>0.130</td>\n",
       "      <td>1.73%</td>\n",
       "      <td>59.36K</td>\n",
       "      <td>15:59:59</td>\n",
       "    </tr>\n",
       "    <tr>\n",
       "      <th>Bioceres Crop</th>\n",
       "      <td>12.85</td>\n",
       "      <td>13.11</td>\n",
       "      <td>12.82</td>\n",
       "      <td>-0.220</td>\n",
       "      <td>-1.68%</td>\n",
       "      <td>48.59K</td>\n",
       "      <td>16:00:01</td>\n",
       "    </tr>\n",
       "    <tr>\n",
       "      <th>Edenor ADR</th>\n",
       "      <td>19.070</td>\n",
       "      <td>19.200</td>\n",
       "      <td>18.600</td>\n",
       "      <td>-0.140</td>\n",
       "      <td>-0.73%</td>\n",
       "      <td>41.27K</td>\n",
       "      <td>15:59:59</td>\n",
       "    </tr>\n",
       "  </tbody>\n",
       "</table>\n",
       "</div>"
      ],
      "text/plain": [
       "                                Last    High     Low   Chg.  Chg. %     Vol.  \\\n",
       "Name                                                                           \n",
       "YPF Sociedad Anonima          16.960  17.400  16.800  0.250   1.50%    3.03M   \n",
       "Grupo Supervielle              4.275   4.370   4.175 -0.035  -0.81%   668.7K   \n",
       "Loma Negra ADR                 6.490   6.530   6.280  0.090   1.41%  543.86K   \n",
       "Grupo Financiero Galicia ADR  20.780  20.860  20.348  0.010   0.05%  516.67K   \n",
       "BBVA Argentina                 5.720   5.830   5.650 -0.100  -1.72%  491.08K   \n",
       "Banco Macro B ADR              33.62   33.68   31.86  1.140   3.51%   380.2K   \n",
       "Central Puerto                 8.380   8.620   8.272 -0.040  -0.48%  300.34K   \n",
       "Transportadora Gas ADR        13.200  13.592  13.010 -0.010  -0.08%  170.73K   \n",
       "Cresud SACIF                   8.270   8.470   8.240 -0.130  -1.55%  147.12K   \n",
       "Despegar.com                    8.55    8.61    8.47  0.000   0.00%  127.01K   \n",
       "IRSA ADR                       8.540   8.850   8.400 -0.090  -1.04%  119.36K   \n",
       "Pampa Energia ADR              42.21   42.78   41.44  0.150   0.36%  114.89K   \n",
       "Telecom Argentina ADR          7.660   7.890   7.580  0.130   1.73%   59.36K   \n",
       "Bioceres Crop                  12.85   13.11   12.82 -0.220  -1.68%   48.59K   \n",
       "Edenor ADR                    19.070  19.200  18.600 -0.140  -0.73%   41.27K   \n",
       "\n",
       "                                  Time  \n",
       "Name                                    \n",
       "YPF Sociedad Anonima          15:59:59  \n",
       "Grupo Supervielle             16:00:00  \n",
       "Loma Negra ADR                16:00:00  \n",
       "Grupo Financiero Galicia ADR  15:59:59  \n",
       "BBVA Argentina                15:59:59  \n",
       "Banco Macro B ADR             15:59:59  \n",
       "Central Puerto                16:00:00  \n",
       "Transportadora Gas ADR        15:59:59  \n",
       "Cresud SACIF                  15:59:59  \n",
       "Despegar.com                  16:00:00  \n",
       "IRSA ADR                      15:59:59  \n",
       "Pampa Energia ADR             15:59:59  \n",
       "Telecom Argentina ADR         15:59:59  \n",
       "Bioceres Crop                 16:00:01  \n",
       "Edenor ADR                    15:59:59  "
      ]
     },
     "execution_count": 158,
     "metadata": {},
     "output_type": "execute_result"
    }
   ],
   "source": [
    "import pandas as pd\n",
    "\n",
    "\n",
    "#Cargamos distintas fuentes de datos para evaluar robustez\n",
    "\n",
    "ADRs_20240102 = 'Data\\Arg_ADRs_2024_01_02.csv'\n",
    "ADRs_20240221 = 'Data\\Argentina_ADRs.csv'\n",
    "ADRs_20240223 = 'Data\\Arg_ADRs_2024_02_23.csv'\n",
    "\n",
    "\n",
    "\n",
    "def generar_tabla(csvfile):\n",
    "    \n",
    "    import pandas as pd\n",
    "\n",
    "    tablaADR = pd.read_csv(csvfile)\n",
    "\n",
    "    tablaADR = pd.DataFrame(tablaADR)\n",
    "\n",
    "    tablaADR.set_index('Name', inplace = True)\n",
    "\n",
    "    #print(tablaADR.index.values)\n",
    "\n",
    "    # Removemos MercadoLibre (MELI) de la tabla y creamos una 'tablaADR_sinMELI'\n",
    "\n",
    "    tablaADR_sinMELI = tablaADR.drop(['MercadoLibre'])\n",
    "\n",
    "    #print(tablaADR_sinMELI.index.values)\n",
    "\n",
    "    return tablaADR_sinMELI\n",
    "\n",
    "generar_tabla(ADRs_20240221)\n"
   ]
  },
  {
   "cell_type": "code",
   "execution_count": 159,
   "id": "122e8b65-1c7f-438d-a08f-7b79abdc2dd1",
   "metadata": {},
   "outputs": [
    {
     "name": "stdout",
     "output_type": "stream",
     "text": [
      "Las capitalizaciones suman 26366162980\n",
      "\n",
      "\n",
      "\n",
      "PONDERADORES:\n",
      "YPF Sociedad Anonima : 0.253\n",
      "Grupo Supervielle : 0.014\n",
      "Grupo Financiero Galicia ADR : 0.116\n",
      "BBVA Argentina : 0.044\n",
      "Banco Macro B ADR : 0.082\n",
      "Telecom Argentina ADR : 0.125\n",
      "Cresud SACIF : 0.019\n",
      "Central Puerto : 0.048\n",
      "Pampa Energia ADR : 0.088\n",
      "Loma Negra ADR : 0.029\n",
      "Despegar.com : 0.021\n",
      "IRSA ADR : 0.021\n",
      "Transportadora Gas ADR : 0.075\n",
      "Bioceres Crop : 0.031\n",
      "Edenor ADR : 0.033\n",
      "\n",
      "\n",
      "Los ponderadores suman 1.0, como corresponde.\n"
     ]
    }
   ],
   "source": [
    "cap_bursatiles = {\n",
    "    'YPF Sociedad Anonima' : 6669706272,\n",
    "    'Grupo Supervielle' : 379972012,\n",
    "    'Grupo Financiero Galicia ADR' : 3064410163,\n",
    "    'BBVA Argentina' : 1169255067,\n",
    "    'Banco Macro B ADR' : 2153544365,\n",
    "    'Telecom Argentina ADR' : 3303757407,\n",
    "    'Cresud SACIF' : 495623283,\n",
    "    'Central Puerto' : 1268750654,\n",
    "    'Pampa Energia ADR' : 2326836834,\n",
    "    'Loma Negra ADR' : 757609060,\n",
    "    'Despegar.com' : 564813000,\n",
    "    'IRSA ADR' : 564813000,\n",
    "    'Transportadora Gas ADR' : 1981267110,\n",
    "    'Bioceres Crop' : 806938546,\n",
    "    'Edenor ADR' : 858866207}\n",
    "\n",
    "suma_cap = sum(cap_bursatiles.values())\n",
    "\n",
    "print(f'Las capitalizaciones suman {suma_cap}')\n",
    "\n",
    "firmas_y_pond = []\n",
    "\n",
    "for i in cap_bursatiles:\n",
    "    firmas_y_pond.append([i, (cap_bursatiles[i]/suma_cap)])\n",
    "\n",
    "ponderadores = dict(firmas_y_pond)\n",
    "\n",
    "\n",
    "print()\n",
    "print()\n",
    "print()\n",
    "\n",
    "print('PONDERADORES:')\n",
    "for i in ponderadores:\n",
    "    print(i, ':', round(ponderadores[i], 3))\n",
    "\n",
    "\n",
    "print()\n",
    "print()\n",
    "\n",
    "\n",
    "print(f'Los ponderadores suman {round(sum(ponderadores.values()), 2)}, como corresponde.')\n",
    "\n"
   ]
  },
  {
   "cell_type": "markdown",
   "id": "c1319fe9-00fb-41d0-8ee0-b968c64d8541",
   "metadata": {},
   "source": [
    "# Cómputo del índice"
   ]
  },
  {
   "cell_type": "markdown",
   "id": "979ffd9b-b4bb-4605-bd76-f5f9080143fa",
   "metadata": {},
   "source": [
    "Teniendo los datos de precios y los ponderadores, podemos calcular el índice ArgDR para el 21-02-2024 (ya que tenemos los datos de precios para esa fecha y los ponderadores que se reutilizan de jornada en jornada, actualizándose únicamente a mediano plazo)"
   ]
  },
  {
   "cell_type": "code",
   "execution_count": 168,
   "id": "0cdf888a-385a-487f-91cd-a593de9411e1",
   "metadata": {},
   "outputs": [
    {
     "data": {
      "text/html": [
       "<div>\n",
       "<style scoped>\n",
       "    .dataframe tbody tr th:only-of-type {\n",
       "        vertical-align: middle;\n",
       "    }\n",
       "\n",
       "    .dataframe tbody tr th {\n",
       "        vertical-align: top;\n",
       "    }\n",
       "\n",
       "    .dataframe thead th {\n",
       "        text-align: right;\n",
       "    }\n",
       "</style>\n",
       "<table border=\"1\" class=\"dataframe\">\n",
       "  <thead>\n",
       "    <tr style=\"text-align: right;\">\n",
       "      <th></th>\n",
       "      <th>Firma</th>\n",
       "      <th>Last</th>\n",
       "    </tr>\n",
       "  </thead>\n",
       "  <tbody>\n",
       "    <tr>\n",
       "      <th>0</th>\n",
       "      <td>YPF Sociedad Anonima</td>\n",
       "      <td>18.125</td>\n",
       "    </tr>\n",
       "    <tr>\n",
       "      <th>1</th>\n",
       "      <td>Grupo Supervielle</td>\n",
       "      <td>4.320</td>\n",
       "    </tr>\n",
       "    <tr>\n",
       "      <th>2</th>\n",
       "      <td>Grupo Financiero Galicia ADR</td>\n",
       "      <td>6.241</td>\n",
       "    </tr>\n",
       "    <tr>\n",
       "      <th>3</th>\n",
       "      <td>BBVA Argentina</td>\n",
       "      <td>22.190</td>\n",
       "    </tr>\n",
       "    <tr>\n",
       "      <th>4</th>\n",
       "      <td>Banco Macro B ADR</td>\n",
       "      <td>36.31</td>\n",
       "    </tr>\n",
       "    <tr>\n",
       "      <th>5</th>\n",
       "      <td>Telecom Argentina ADR</td>\n",
       "      <td>6.751</td>\n",
       "    </tr>\n",
       "    <tr>\n",
       "      <th>6</th>\n",
       "      <td>Cresud SACIF</td>\n",
       "      <td>14.430</td>\n",
       "    </tr>\n",
       "    <tr>\n",
       "      <th>7</th>\n",
       "      <td>Central Puerto</td>\n",
       "      <td>8.550</td>\n",
       "    </tr>\n",
       "    <tr>\n",
       "      <th>8</th>\n",
       "      <td>Pampa Energia ADR</td>\n",
       "      <td>7.890</td>\n",
       "    </tr>\n",
       "    <tr>\n",
       "      <th>9</th>\n",
       "      <td>Loma Negra ADR</td>\n",
       "      <td>8.74</td>\n",
       "    </tr>\n",
       "    <tr>\n",
       "      <th>10</th>\n",
       "      <td>Despegar.com</td>\n",
       "      <td>44.40</td>\n",
       "    </tr>\n",
       "    <tr>\n",
       "      <th>11</th>\n",
       "      <td>IRSA ADR</td>\n",
       "      <td>8.570</td>\n",
       "    </tr>\n",
       "    <tr>\n",
       "      <th>12</th>\n",
       "      <td>Transportadora Gas ADR</td>\n",
       "      <td>8.240</td>\n",
       "    </tr>\n",
       "    <tr>\n",
       "      <th>13</th>\n",
       "      <td>Bioceres Crop</td>\n",
       "      <td>18.725</td>\n",
       "    </tr>\n",
       "    <tr>\n",
       "      <th>14</th>\n",
       "      <td>Edenor ADR</td>\n",
       "      <td>12.93</td>\n",
       "    </tr>\n",
       "  </tbody>\n",
       "</table>\n",
       "</div>"
      ],
      "text/plain": [
       "                           Firma    Last\n",
       "0           YPF Sociedad Anonima  18.125\n",
       "1              Grupo Supervielle   4.320\n",
       "2   Grupo Financiero Galicia ADR   6.241\n",
       "3                 BBVA Argentina  22.190\n",
       "4              Banco Macro B ADR   36.31\n",
       "5          Telecom Argentina ADR   6.751\n",
       "6                   Cresud SACIF  14.430\n",
       "7                 Central Puerto   8.550\n",
       "8              Pampa Energia ADR   7.890\n",
       "9                 Loma Negra ADR    8.74\n",
       "10                  Despegar.com   44.40\n",
       "11                      IRSA ADR   8.570\n",
       "12        Transportadora Gas ADR   8.240\n",
       "13                 Bioceres Crop  18.725\n",
       "14                    Edenor ADR   12.93"
      ]
     },
     "execution_count": 168,
     "metadata": {},
     "output_type": "execute_result"
    }
   ],
   "source": [
    "def preciosypond(csvfile):\n",
    "    generar_tabla(csvfile)\n",
    "    ponderadores_df = pd.DataFrame(ponderadores.values(), index=ponderadores.keys())\n",
    "    precios_y_pond = ponderadores_df.merge(generar_tabla(csvfile), on=ponderadores_df.index)\n",
    "    precios_y_pond.rename(columns = {'key_0' : 'Firma', 0 : 'Ponderador'}, inplace=True)\n",
    "    return precios_y_pond\n",
    "\n",
    "'''\n",
    "Podemos ver que, al fluctuar los precios de las acciones, los datos provenientes \n",
    " del primer archivo difieren de los del segundo\n",
    "'''\n",
    "\n",
    "\n",
    "#print(preciosypond(ADRs_20240221)[['Firma','Last']][0:5])\n",
    "preciosypond(ADRs_20240223)[['Firma','Last']]\n",
    "#preciosypond(ADRs_20240102)[['Firma','Last']]"
   ]
  },
  {
   "cell_type": "code",
   "execution_count": 161,
   "id": "89056f8a",
   "metadata": {},
   "outputs": [
    {
     "name": "stdout",
     "output_type": "stream",
     "text": [
      "2024-02-21 18:58\n"
     ]
    }
   ],
   "source": [
    "from datetime import datetime\n",
    "import os\n",
    "import time\n",
    "\n",
    "def fechacsv(csvfile) :\n",
    "    creationdate = str(datetime.fromtimestamp(os.path.getctime(csvfile)))\n",
    "    return creationdate[0:16]\n",
    "\n",
    "print(fechacsv(ADRs_20240221))"
   ]
  },
  {
   "cell_type": "code",
   "execution_count": 165,
   "id": "30245d58",
   "metadata": {},
   "outputs": [
    {
     "name": "stdout",
     "output_type": "stream",
     "text": [
      "El índice ArgDR (Last) el día 2024-02-21 18:58 vale 15.153 puntos\n",
      "El índice ArgDR (Last) el día 2024-02-23 15:13 vale 14.547 puntos\n",
      "La variación porcentual del ArgDR Index entre el 21-02 y el 23-02 es de -4.002%.\n"
     ]
    }
   ],
   "source": [
    "\n",
    "\n",
    "\n",
    "\n",
    "\n",
    "def calculo_indice(col, csvfile):\n",
    "    precios_y_pond = preciosypond(csvfile)\n",
    "    vector_pond = pd.Series(precios_y_pond['Ponderador'])\n",
    "    #print(vector_pond)\n",
    "    vector_ult_precio = pd.Series(precios_y_pond[col], dtype='float')\n",
    "    #print(vector_ult_precio)\n",
    "    ArgDR_Index = vector_pond.dot(vector_ult_precio)\n",
    "    print(f'El índice ArgDR ({col}) el día {fechacsv(csvfile)} vale {round(ArgDR_Index, 3)} puntos')\n",
    "    return ArgDR_Index\n",
    "\n",
    "#calculo_indice('Last', ADRs_20240221)\n",
    "#calculo_indice('Low',  ADRs_20240221)\n",
    "#calculo_indice('High', ADRs_20240221)\n",
    "\n",
    "\n",
    "\n",
    "#print(generar_tabla(ADRs_20240223))\n",
    "#calculo_indice('Last', ADRs_20240223)\n",
    "\n",
    "anteayer = calculo_indice('Last', ADRs_20240221)\n",
    "hoy = calculo_indice('Last', ADRs_20240223)\n",
    "\n",
    "print(f'La variación porcentual del ArgDR Index entre el 21-02' \n",
    "      f' y el 23-02 es de {round(100*((hoy/anteayer)-1),3)}%.')\n",
    "\n"
   ]
  },
  {
   "cell_type": "markdown",
   "id": "d85e1b18",
   "metadata": {},
   "source": [
    "# Serie histórica"
   ]
  },
  {
   "cell_type": "markdown",
   "id": "4712bb9f",
   "metadata": {},
   "source": [
    "Creamos un archivo CSV denominado 'Serie_Historica_ArgDR', y una función para agregarle registros con el valor computado del índice en la fecha correspondiente."
   ]
  },
  {
   "cell_type": "code",
   "execution_count": 163,
   "id": "cc401016",
   "metadata": {},
   "outputs": [
    {
     "name": "stdout",
     "output_type": "stream",
     "text": [
      "El índice ArgDR (Last) el día 2024-02-23 16:34 vale 13.237 puntos\n",
      "                  0          1\n",
      "0  2024-02-23 16:34  13.236798\n"
     ]
    }
   ],
   "source": [
    "def registrar(csvfile):\n",
    "    registro = {0:[fechacsv(csvfile)], 1: [calculo_indice('Last', csvfile)]}\n",
    "    registro = pd.DataFrame(data=registro)\n",
    "    print(registro)\n",
    "    registro.to_csv('Data\\Serie_Historica_ArgDR.csv', mode='a', header=False, index=False)\n",
    "\n",
    "registrar(ADRs_20240102)\n",
    "\n"
   ]
  },
  {
   "cell_type": "code",
   "execution_count": null,
   "id": "f51688ac",
   "metadata": {},
   "outputs": [],
   "source": []
  },
  {
   "cell_type": "code",
   "execution_count": null,
   "id": "dc2830a0",
   "metadata": {},
   "outputs": [],
   "source": []
  },
  {
   "cell_type": "code",
   "execution_count": 50,
   "id": "00473047-27ef-4599-961d-75ecd0b54d04",
   "metadata": {
    "tags": []
   },
   "outputs": [
    {
     "data": {
      "text/plain": [
       "\"\\n\\nimport pandas as pd\\nimport requests\\n\\n\\nurl_inv_adr = 'https://www.investing.com/equities/argentina-adrs'\\n\\nurl_puentenet_adr = 'https://www.puentenet.com/cotizaciones/acciones/'\\n\\nrequest_headers = {'User-Agent' : 'Mozilla/5.0 (Windows NT 10.0; Win64; x64) AppleWebKit/537.36 (KHTML, like Gecko) Chrome/121.0.0.0 Safari/537.36'}\\n\\nresponse =  requests.get(url_inv_adr, headers = request_headers)\\n\\ntablas_adrs = pd.read_csv(response.text, index_col = 0)\\n\\nprint(tablas_adrs)\\n\\n\""
      ]
     },
     "execution_count": 50,
     "metadata": {},
     "output_type": "execute_result"
    }
   ],
   "source": [
    "'''\n",
    "\n",
    "import pandas as pd\n",
    "import requests\n",
    "\n",
    "\n",
    "url_inv_adr = 'https://www.investing.com/equities/argentina-adrs'\n",
    "\n",
    "url_puentenet_adr = 'https://www.puentenet.com/cotizaciones/acciones/'\n",
    "\n",
    "request_headers = {'User-Agent' : 'Mozilla/5.0 (Windows NT 10.0; Win64; x64) AppleWebKit/537.36 (KHTML, like Gecko) Chrome/121.0.0.0 Safari/537.36'}\n",
    "\n",
    "response =  requests.get(url_inv_adr, headers = request_headers)\n",
    "\n",
    "tablas_adrs = pd.read_csv(response.text, index_col = 0)\n",
    "\n",
    "print(tablas_adrs)\n",
    "\n",
    "'''\n"
   ]
  }
 ],
 "metadata": {
  "kernelspec": {
   "display_name": "Python 3 (ipykernel)",
   "language": "python",
   "name": "python3"
  },
  "language_info": {
   "codemirror_mode": {
    "name": "ipython",
    "version": 3
   },
   "file_extension": ".py",
   "mimetype": "text/x-python",
   "name": "python",
   "nbconvert_exporter": "python",
   "pygments_lexer": "ipython3",
   "version": "3.11.5"
  },
  "toc-autonumbering": false
 },
 "nbformat": 4,
 "nbformat_minor": 5
}
